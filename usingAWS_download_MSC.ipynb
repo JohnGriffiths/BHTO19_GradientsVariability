{
 "cells": [
  {
   "cell_type": "code",
   "execution_count": 29,
   "metadata": {},
   "outputs": [
    {
     "data": {
      "text/plain": [
       "'aws s3 cp --no-sign-request s3://openneuro.org/ds000224/derivatives/surface_pipeline/%s/processed_restingstate_timecourses/ses-func01/cifti/%s_ses-func01_task-rest_bold_32k_fsLR.dtseries.nii .'"
      ]
     },
     "execution_count": 29,
     "metadata": {},
     "output_type": "execute_result"
    }
   ],
   "source": [
    "import os,sys,glob,numpy as np\n",
    "\n",
    "outdir = '/home/gabi/Documents/kimel/brainhack_2019/BHTO19_GradientsVariability/data/MSC'\n",
    "subs = ['sub-MSC01','sub-MSC02/','sub-MSC03/','sub-MSC04/','sub-MSC05/','sub-MSC06/','sub-MSC07/','sub-MSC08/','sub-MSC09/','sub-MSC10/']\n",
    "#cmdstr1 = 'aws s3 cp --no-sign-request s3://openneuro.org/ds000224/derivatives'\\\n",
    "#         '/surface_pipeline/%s/processed_restingstate_timecourses/ses-func01'\\\n",
    "#         '/cifti/%s_ses-func01_task-rest_bold_32k_fsLR_tmask.txt ../data/'\n",
    "cmdstr1 = 'aws s3 cp --no-sign-request s3://openneuro.org/ds000224/derivatives'\\\n",
    "         '/surface_pipeline/%s/processed_restingstate_timecourses/ses-func01'\\\n",
    "         '/cifti/%s_ses-func01_task-rest_bold_32k_fsLR_tmask.txt .'\n",
    "cmdstr1\n",
    "\n",
    "cmdstr2 = 'aws s3 cp --no-sign-request s3://openneuro.org/ds000224/derivatives'\\\n",
    "         '/surface_pipeline/%s/processed_restingstate_timecourses/ses-func01'\\\n",
    "         '/cifti/%s_ses-func01_task-rest_bold_32k_fsLR.dtseries.nii .'\n",
    "\n",
    "cmdstr2"
   ]
  },
  {
   "cell_type": "code",
   "execution_count": 30,
   "metadata": {},
   "outputs": [],
   "source": [
    "#download stuff!!!!!!!!!1\n",
    "#but unfortunately this is only downloading ses-01 which seems like a problem, should download all (figure out how to use aws)\n",
    "os.chdir(outdir)\n",
    "for sub in subs:\n",
    "    cmd1 = cmdstr1 %(sub,sub)\n",
    "    os.system(cmd1)\n",
    "    cmd2 = cmdstr2 %(sub,sub)\n",
    "    os.system(cmd2)"
   ]
  },
  {
   "cell_type": "code",
   "execution_count": 16,
   "metadata": {},
   "outputs": [
    {
     "name": "stdout",
     "output_type": "stream",
     "text": [
      "                           PRE sub-MSC01/\r\n",
      "                           PRE sub-MSC02/\r\n",
      "                           PRE sub-MSC03/\r\n",
      "                           PRE sub-MSC04/\r\n",
      "                           PRE sub-MSC05/\r\n",
      "                           PRE sub-MSC06/\r\n",
      "                           PRE sub-MSC07/\r\n",
      "                           PRE sub-MSC08/\r\n",
      "                           PRE sub-MSC09/\r\n",
      "                           PRE sub-MSC10/\r\n"
     ]
    }
   ],
   "source": [
    "ls_str = 'aws s3 ls --no-sign-request s3://openneuro.org/ds000224/derivatives/surface_pipeline'\n",
    "\n",
    "! $ls_str/"
   ]
  },
  {
   "cell_type": "code",
   "execution_count": 24,
   "metadata": {},
   "outputs": [
    {
     "name": "stdout",
     "output_type": "stream",
     "text": [
      "2018-07-17 11:59:52  215994464 sub-MSC01_ses-func01_task-rest_bold_32k_fsLR.dtseries.nii\r\n",
      "2018-07-17 11:59:56       1636 sub-MSC01_ses-func01_task-rest_bold_32k_fsLR_tmask.txt\r\n"
     ]
    }
   ],
   "source": [
    "\n",
    "ls_str = 'aws s3 ls --no-sign-request s3://openneuro.org/ds000224/derivatives/surface_pipeline/sub-MSC01/processed_restingstate_timecourses/ses-func01/cifti/'\n",
    "\n",
    "! $ls_str"
   ]
  },
  {
   "cell_type": "code",
   "execution_count": 17,
   "metadata": {},
   "outputs": [
    {
     "ename": "NameError",
     "evalue": "name 'img' is not defined",
     "output_type": "error",
     "traceback": [
      "\u001b[0;31m---------------------------------------------------------------------------\u001b[0m",
      "\u001b[0;31mNameError\u001b[0m                                 Traceback (most recent call last)",
      "\u001b[0;32m<ipython-input-17-11d347eb3a8e>\u001b[0m in \u001b[0;36m<module>\u001b[0;34m\u001b[0m\n\u001b[1;32m     11\u001b[0m \u001b[0;34m\u001b[0m\u001b[0m\n\u001b[1;32m     12\u001b[0m \u001b[0mf\u001b[0m \u001b[0;34m=\u001b[0m \u001b[0;34m'sub-MSC01_ses-func01_task-rest_bold_32k_fsLR.dtseries.nii'\u001b[0m\u001b[0;34m\u001b[0m\u001b[0;34m\u001b[0m\u001b[0m\n\u001b[0;32m---> 13\u001b[0;31m \u001b[0mimg\u001b[0m \u001b[0;34m=\u001b[0m \u001b[0mimg\u001b[0m\u001b[0;34m.\u001b[0m\u001b[0mload\u001b[0m\u001b[0;34m(\u001b[0m\u001b[0mf\u001b[0m\u001b[0;34m)\u001b[0m\u001b[0;34m\u001b[0m\u001b[0;34m\u001b[0m\u001b[0m\n\u001b[0m",
      "\u001b[0;31mNameError\u001b[0m: name 'img' is not defined"
     ]
    }
   ],
   "source": [
    "for sub in subs:\n",
    "    \n",
    "    cmd1 = cmdstr1 %(sub,sub)\n",
    "    os.system(cmd1)\n",
    "    \n",
    "    cmd2 = cmdstr2 %(sub,sub)\n",
    "    os.system(cmd2)\n",
    "\n",
    "    \n",
    "import nibabel as nib\n",
    "\n",
    "f = 'sub-MSC01_ses-func01_task-rest_bold_32k_fsLR.dtseries.nii'\n",
    "img = img.load(f)"
   ]
  },
  {
   "cell_type": "code",
   "execution_count": null,
   "metadata": {},
   "outputs": [],
   "source": [
    "img"
   ]
  }
 ],
 "metadata": {
  "kernelspec": {
   "display_name": "neuroimaging-analysis",
   "language": "python",
   "name": "neuroimaging-analysis"
  },
  "language_info": {
   "codemirror_mode": {
    "name": "ipython",
    "version": 3
   },
   "file_extension": ".py",
   "mimetype": "text/x-python",
   "name": "python",
   "nbconvert_exporter": "python",
   "pygments_lexer": "ipython3",
   "version": "3.7.5"
  }
 },
 "nbformat": 4,
 "nbformat_minor": 2
}
