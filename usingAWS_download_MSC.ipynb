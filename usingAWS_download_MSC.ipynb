{
 "cells": [
  {
   "cell_type": "code",
   "execution_count": 31,
   "metadata": {},
   "outputs": [
    {
     "data": {
      "text/plain": [
       "'aws s3 cp --no-sign-request s3://openneuro.org/ds000224/derivatives/surface_pipeline/%s/processed_restingstate_timecourses/ses-func01/cifti/%s_ses-func01_task-rest_bold_32k_fsLR.dtseries.nii .'"
      ]
     },
     "execution_count": 31,
     "metadata": {},
     "output_type": "execute_result"
    }
   ],
   "source": [
    "import os,sys,glob,numpy as np\n",
    "\n",
    "outdir = './data/MSC/'\n",
    "subs = ['sub-MSC01','sub-MSC02/','sub-MSC03/','sub-MSC04/','sub-MSC05/','sub-MSC06/','sub-MSC07/','sub-MSC08/','sub-MSC09/','sub-MSC10/']\n",
    "#cmdstr1 = 'aws s3 cp --no-sign-request s3://openneuro.org/ds000224/derivatives'\\\n",
    "#         '/surface_pipeline/%s/processed_restingstate_timecourses/ses-func01'\\\n",
    "#         '/cifti/%s_ses-func01_task-rest_bold_32k_fsLR_tmask.txt ../data/'\n",
    "cmdstr1 = 'aws s3 cp --no-sign-request s3://openneuro.org/ds000224/derivatives'\\\n",
    "         '/surface_pipeline/%s/processed_restingstate_timecourses/ses-func01'\\\n",
    "         '/cifti/%s_ses-func01_task-rest_bold_32k_fsLR_tmask.txt .'\n",
    "cmdstr1\n",
    "\n",
    "cmdstr2 = 'aws s3 cp --no-sign-request s3://openneuro.org/ds000224/derivatives'\\\n",
    "         '/surface_pipeline/%s/processed_restingstate_timecourses/ses-func01'\\\n",
    "         '/cifti/%s_ses-func01_task-rest_bold_32k_fsLR.dtseries.nii .'\n",
    "\n",
    "cmdstr2"
   ]
  },
  {
   "cell_type": "code",
   "execution_count": 33,
   "metadata": {},
   "outputs": [
    {
     "name": "stdout",
     "output_type": "stream",
     "text": [
      "aws s3 cp --no-sign-request s3://openneuro.org/ds000224/derivatives/surface_pipeline/sub-MSC01/processed_restingstate_timecourses/ses-func01/cifti/sub-MSC01_ses-func01_task-rest_bold_32k_fsLR_tmask.txt .\n",
      "aws s3 cp --no-sign-request s3://openneuro.org/ds000224/derivatives/surface_pipeline/sub-MSC01/processed_restingstate_timecourses/ses-func01/cifti/sub-MSC01_ses-func01_task-rest_bold_32k_fsLR.dtseries.nii .\n",
      "aws s3 cp --no-sign-request s3://openneuro.org/ds000224/derivatives/surface_pipeline/sub-MSC02//processed_restingstate_timecourses/ses-func01/cifti/sub-MSC02/_ses-func01_task-rest_bold_32k_fsLR_tmask.txt .\n",
      "aws s3 cp --no-sign-request s3://openneuro.org/ds000224/derivatives/surface_pipeline/sub-MSC02//processed_restingstate_timecourses/ses-func01/cifti/sub-MSC02/_ses-func01_task-rest_bold_32k_fsLR.dtseries.nii .\n",
      "aws s3 cp --no-sign-request s3://openneuro.org/ds000224/derivatives/surface_pipeline/sub-MSC03//processed_restingstate_timecourses/ses-func01/cifti/sub-MSC03/_ses-func01_task-rest_bold_32k_fsLR_tmask.txt .\n",
      "aws s3 cp --no-sign-request s3://openneuro.org/ds000224/derivatives/surface_pipeline/sub-MSC03//processed_restingstate_timecourses/ses-func01/cifti/sub-MSC03/_ses-func01_task-rest_bold_32k_fsLR.dtseries.nii .\n",
      "aws s3 cp --no-sign-request s3://openneuro.org/ds000224/derivatives/surface_pipeline/sub-MSC04//processed_restingstate_timecourses/ses-func01/cifti/sub-MSC04/_ses-func01_task-rest_bold_32k_fsLR_tmask.txt .\n",
      "aws s3 cp --no-sign-request s3://openneuro.org/ds000224/derivatives/surface_pipeline/sub-MSC04//processed_restingstate_timecourses/ses-func01/cifti/sub-MSC04/_ses-func01_task-rest_bold_32k_fsLR.dtseries.nii .\n",
      "aws s3 cp --no-sign-request s3://openneuro.org/ds000224/derivatives/surface_pipeline/sub-MSC05//processed_restingstate_timecourses/ses-func01/cifti/sub-MSC05/_ses-func01_task-rest_bold_32k_fsLR_tmask.txt .\n",
      "aws s3 cp --no-sign-request s3://openneuro.org/ds000224/derivatives/surface_pipeline/sub-MSC05//processed_restingstate_timecourses/ses-func01/cifti/sub-MSC05/_ses-func01_task-rest_bold_32k_fsLR.dtseries.nii .\n",
      "aws s3 cp --no-sign-request s3://openneuro.org/ds000224/derivatives/surface_pipeline/sub-MSC06//processed_restingstate_timecourses/ses-func01/cifti/sub-MSC06/_ses-func01_task-rest_bold_32k_fsLR_tmask.txt .\n",
      "aws s3 cp --no-sign-request s3://openneuro.org/ds000224/derivatives/surface_pipeline/sub-MSC06//processed_restingstate_timecourses/ses-func01/cifti/sub-MSC06/_ses-func01_task-rest_bold_32k_fsLR.dtseries.nii .\n",
      "aws s3 cp --no-sign-request s3://openneuro.org/ds000224/derivatives/surface_pipeline/sub-MSC07//processed_restingstate_timecourses/ses-func01/cifti/sub-MSC07/_ses-func01_task-rest_bold_32k_fsLR_tmask.txt .\n",
      "aws s3 cp --no-sign-request s3://openneuro.org/ds000224/derivatives/surface_pipeline/sub-MSC07//processed_restingstate_timecourses/ses-func01/cifti/sub-MSC07/_ses-func01_task-rest_bold_32k_fsLR.dtseries.nii .\n",
      "aws s3 cp --no-sign-request s3://openneuro.org/ds000224/derivatives/surface_pipeline/sub-MSC08//processed_restingstate_timecourses/ses-func01/cifti/sub-MSC08/_ses-func01_task-rest_bold_32k_fsLR_tmask.txt .\n",
      "aws s3 cp --no-sign-request s3://openneuro.org/ds000224/derivatives/surface_pipeline/sub-MSC08//processed_restingstate_timecourses/ses-func01/cifti/sub-MSC08/_ses-func01_task-rest_bold_32k_fsLR.dtseries.nii .\n",
      "aws s3 cp --no-sign-request s3://openneuro.org/ds000224/derivatives/surface_pipeline/sub-MSC09//processed_restingstate_timecourses/ses-func01/cifti/sub-MSC09/_ses-func01_task-rest_bold_32k_fsLR_tmask.txt .\n",
      "aws s3 cp --no-sign-request s3://openneuro.org/ds000224/derivatives/surface_pipeline/sub-MSC09//processed_restingstate_timecourses/ses-func01/cifti/sub-MSC09/_ses-func01_task-rest_bold_32k_fsLR.dtseries.nii .\n",
      "aws s3 cp --no-sign-request s3://openneuro.org/ds000224/derivatives/surface_pipeline/sub-MSC10//processed_restingstate_timecourses/ses-func01/cifti/sub-MSC10/_ses-func01_task-rest_bold_32k_fsLR_tmask.txt .\n",
      "aws s3 cp --no-sign-request s3://openneuro.org/ds000224/derivatives/surface_pipeline/sub-MSC10//processed_restingstate_timecourses/ses-func01/cifti/sub-MSC10/_ses-func01_task-rest_bold_32k_fsLR.dtseries.nii .\n"
     ]
    }
   ],
   "source": [
    "#download stuff!!!!!!!!!1\n",
    "#but unfortunately this is only downloading ses-01 which seems like a problem, should download all (figure out how to use aws)\n",
    "os.chdir(outdir)\n",
    "for sub in subs:\n",
    "    cmd1 = cmdstr1 %(sub,sub)\n",
    "    os.system(cmd1)\n",
    "    cmd2 = cmdstr2 %(sub,sub)\n",
    "    os.system(cmd2)"
   ]
  },
  {
   "cell_type": "code",
   "execution_count": 16,
   "metadata": {},
   "outputs": [
    {
     "name": "stdout",
     "output_type": "stream",
     "text": [
      "                           PRE sub-MSC01/\r\n",
      "                           PRE sub-MSC02/\r\n",
      "                           PRE sub-MSC03/\r\n",
      "                           PRE sub-MSC04/\r\n",
      "                           PRE sub-MSC05/\r\n",
      "                           PRE sub-MSC06/\r\n",
      "                           PRE sub-MSC07/\r\n",
      "                           PRE sub-MSC08/\r\n",
      "                           PRE sub-MSC09/\r\n",
      "                           PRE sub-MSC10/\r\n"
     ]
    }
   ],
   "source": [
    "ls_str = 'aws s3 ls --no-sign-request s3://openneuro.org/ds000224/derivatives/surface_pipeline'\n",
    "\n",
    "! $ls_str/"
   ]
  },
  {
   "cell_type": "code",
   "execution_count": 38,
   "metadata": {},
   "outputs": [
    {
     "name": "stdout",
     "output_type": "stream",
     "text": [
      "                           PRE ses-func01/\r\n",
      "                           PRE ses-func02/\r\n",
      "                           PRE ses-func03/\r\n",
      "                           PRE ses-func04/\r\n",
      "                           PRE ses-func05/\r\n",
      "                           PRE ses-func06/\r\n",
      "                           PRE ses-func07/\r\n",
      "                           PRE ses-func08/\r\n",
      "                           PRE ses-func09/\r\n",
      "                           PRE ses-func10/\r\n"
     ]
    }
   ],
   "source": [
    "\n",
    "ls_str = 'aws s3 ls --no-sign-request s3://openneuro.org/ds000224/derivatives/surface_pipeline/sub-MSC01/processed_restingstate_timecourses/'\n",
    "\n",
    "! $ls_str"
   ]
  },
  {
   "cell_type": "code",
   "execution_count": 17,
   "metadata": {},
   "outputs": [
    {
     "ename": "NameError",
     "evalue": "name 'img' is not defined",
     "output_type": "error",
     "traceback": [
      "\u001b[0;31m---------------------------------------------------------------------------\u001b[0m",
      "\u001b[0;31mNameError\u001b[0m                                 Traceback (most recent call last)",
      "\u001b[0;32m<ipython-input-17-11d347eb3a8e>\u001b[0m in \u001b[0;36m<module>\u001b[0;34m\u001b[0m\n\u001b[1;32m     11\u001b[0m \u001b[0;34m\u001b[0m\u001b[0m\n\u001b[1;32m     12\u001b[0m \u001b[0mf\u001b[0m \u001b[0;34m=\u001b[0m \u001b[0;34m'sub-MSC01_ses-func01_task-rest_bold_32k_fsLR.dtseries.nii'\u001b[0m\u001b[0;34m\u001b[0m\u001b[0;34m\u001b[0m\u001b[0m\n\u001b[0;32m---> 13\u001b[0;31m \u001b[0mimg\u001b[0m \u001b[0;34m=\u001b[0m \u001b[0mimg\u001b[0m\u001b[0;34m.\u001b[0m\u001b[0mload\u001b[0m\u001b[0;34m(\u001b[0m\u001b[0mf\u001b[0m\u001b[0;34m)\u001b[0m\u001b[0;34m\u001b[0m\u001b[0;34m\u001b[0m\u001b[0m\n\u001b[0m",
      "\u001b[0;31mNameError\u001b[0m: name 'img' is not defined"
     ]
    }
   ],
   "source": [
    "for sub in subs:\n",
    "    \n",
    "    cmd1 = cmdstr1 %(sub,sub)\n",
    "    os.system(cmd1)\n",
    "    \n",
    "    cmd2 = cmdstr2 %(sub,sub)\n",
    "    os.system(cmd2)\n",
    "\n",
    "    \n",
    "import nibabel as nib\n",
    "\n",
    "f = 'sub-MSC01_ses-func01_task-rest_bold_32k_fsLR.dtseries.nii'\n",
    "img = img.load(f)"
   ]
  },
  {
   "cell_type": "code",
   "execution_count": 44,
   "metadata": {},
   "outputs": [
    {
     "data": {
      "text/plain": [
       "0"
      ]
     },
     "execution_count": 44,
     "metadata": {},
     "output_type": "execute_result"
    }
   ],
   "source": [
    "#Let's try a different pulling in command. This is what I'd use to grab everything from everyone, but I won't really do that bc ram\n",
    "#cmdstr1 = 'aws s3 cp --no-sign-request --recursive s3://openneuro.org/ds000224/derivatives'\\\n",
    "#         '/surface_pipeline/%s/processed_restingstate_timecourses /home/gabi/Documents/kimel/brainhack_2019/BHTO19_GradientsVariability/data/MSC'\n",
    "\n",
    "\n",
    "cmdstr1 = 'aws s3 cp --no-sign-request --recursive s3://openneuro.org/ds000224/derivatives'\\\n",
    "         '/surface_pipeline/%s/processed_restingstate_timecourses/ses-func01/ /home/gabi/Documents/kimel/brainhack_2019/BHTO19_GradientsVariability/data/MSC'\n",
    "\n",
    "\n",
    "#try for one subject and session first\n",
    "\n",
    "subj=subs[0]\n",
    "cmd1 = cmdstr1 %(subj)\n",
    "os.system(cmd1)\n",
    "\n",
    "\n"
   ]
  },
  {
   "cell_type": "code",
   "execution_count": null,
   "metadata": {},
   "outputs": [],
   "source": []
  },
  {
   "cell_type": "code",
   "execution_count": null,
   "metadata": {},
   "outputs": [],
   "source": [
    "#When we actually run it on everyone we will do it with this \n",
    "#os.chdir(outdir)\n",
    "#for sub in subs:\n",
    "#    cmd1 = cmdstr1 %(sub,sub)\n",
    "#    os.system(cmd1)\n",
    "#    cmd2 = cmdstr2 %(sub,sub)\n",
    "#    os.system(cmd2)\n",
    "\n",
    "#use np.corcoeff"
   ]
  },
  {
   "cell_type": "code",
   "execution_count": 45,
   "metadata": {},
   "outputs": [
    {
     "ename": "ValueError",
     "evalue": "Only CIFTI-2 files are supported",
     "output_type": "error",
     "traceback": [
      "\u001b[0;31m---------------------------------------------------------------------------\u001b[0m",
      "\u001b[0;31mValueError\u001b[0m                                Traceback (most recent call last)",
      "\u001b[0;32m<ipython-input-45-f6ea7264c6b4>\u001b[0m in \u001b[0;36m<module>\u001b[0;34m\u001b[0m\n\u001b[1;32m      3\u001b[0m \u001b[0;34m\u001b[0m\u001b[0m\n\u001b[1;32m      4\u001b[0m \u001b[0mf\u001b[0m \u001b[0;34m=\u001b[0m \u001b[0;34m'/home/gabi/Documents/kimel/brainhack_2019/BHTO19_GradientsVariability/data/MSC/cifti/sub-MSC01_ses-func01_task-rest_bold_32k_fsLR.dtseries.nii'\u001b[0m\u001b[0;34m\u001b[0m\u001b[0;34m\u001b[0m\u001b[0m\n\u001b[0;32m----> 5\u001b[0;31m \u001b[0mimg\u001b[0m \u001b[0;34m=\u001b[0m \u001b[0mnib\u001b[0m\u001b[0;34m.\u001b[0m\u001b[0mload\u001b[0m\u001b[0;34m(\u001b[0m\u001b[0mf\u001b[0m\u001b[0;34m)\u001b[0m\u001b[0;34m\u001b[0m\u001b[0;34m\u001b[0m\u001b[0m\n\u001b[0m",
      "\u001b[0;32m~/anaconda3/envs/neuroimaging-analysis/lib/python3.7/site-packages/nibabel/loadsave.py\u001b[0m in \u001b[0;36mload\u001b[0;34m(filename, **kwargs)\u001b[0m\n\u001b[1;32m     47\u001b[0m         \u001b[0mis_valid\u001b[0m\u001b[0;34m,\u001b[0m \u001b[0msniff\u001b[0m \u001b[0;34m=\u001b[0m \u001b[0mimage_klass\u001b[0m\u001b[0;34m.\u001b[0m\u001b[0mpath_maybe_image\u001b[0m\u001b[0;34m(\u001b[0m\u001b[0mfilename\u001b[0m\u001b[0;34m,\u001b[0m \u001b[0msniff\u001b[0m\u001b[0;34m)\u001b[0m\u001b[0;34m\u001b[0m\u001b[0;34m\u001b[0m\u001b[0m\n\u001b[1;32m     48\u001b[0m         \u001b[0;32mif\u001b[0m \u001b[0mis_valid\u001b[0m\u001b[0;34m:\u001b[0m\u001b[0;34m\u001b[0m\u001b[0;34m\u001b[0m\u001b[0m\n\u001b[0;32m---> 49\u001b[0;31m             \u001b[0mimg\u001b[0m \u001b[0;34m=\u001b[0m \u001b[0mimage_klass\u001b[0m\u001b[0;34m.\u001b[0m\u001b[0mfrom_filename\u001b[0m\u001b[0;34m(\u001b[0m\u001b[0mfilename\u001b[0m\u001b[0;34m,\u001b[0m \u001b[0;34m**\u001b[0m\u001b[0mkwargs\u001b[0m\u001b[0;34m)\u001b[0m\u001b[0;34m\u001b[0m\u001b[0;34m\u001b[0m\u001b[0m\n\u001b[0m\u001b[1;32m     50\u001b[0m             \u001b[0;32mreturn\u001b[0m \u001b[0mimg\u001b[0m\u001b[0;34m\u001b[0m\u001b[0;34m\u001b[0m\u001b[0m\n\u001b[1;32m     51\u001b[0m \u001b[0;34m\u001b[0m\u001b[0m\n",
      "\u001b[0;32m~/anaconda3/envs/neuroimaging-analysis/lib/python3.7/site-packages/nibabel/keywordonly.py\u001b[0m in \u001b[0;36mwrapper\u001b[0;34m(*args, **kwargs)\u001b[0m\n\u001b[1;32m     15\u001b[0m                     '{0} takes at most {1} positional argument{2}'.format(\n\u001b[1;32m     16\u001b[0m                         func.__name__, n, 's' if n > 1 else ''))\n\u001b[0;32m---> 17\u001b[0;31m             \u001b[0;32mreturn\u001b[0m \u001b[0mfunc\u001b[0m\u001b[0;34m(\u001b[0m\u001b[0;34m*\u001b[0m\u001b[0margs\u001b[0m\u001b[0;34m,\u001b[0m \u001b[0;34m**\u001b[0m\u001b[0mkwargs\u001b[0m\u001b[0;34m)\u001b[0m\u001b[0;34m\u001b[0m\u001b[0;34m\u001b[0m\u001b[0m\n\u001b[0m\u001b[1;32m     18\u001b[0m         \u001b[0;32mreturn\u001b[0m \u001b[0mwrapper\u001b[0m\u001b[0;34m\u001b[0m\u001b[0;34m\u001b[0m\u001b[0m\n\u001b[1;32m     19\u001b[0m     \u001b[0;32mreturn\u001b[0m \u001b[0mdecorator\u001b[0m\u001b[0;34m\u001b[0m\u001b[0;34m\u001b[0m\u001b[0m\n",
      "\u001b[0;32m~/anaconda3/envs/neuroimaging-analysis/lib/python3.7/site-packages/nibabel/dataobj_images.py\u001b[0m in \u001b[0;36mfrom_filename\u001b[0;34m(klass, filename, mmap, keep_file_open)\u001b[0m\n\u001b[1;32m    482\u001b[0m         \u001b[0mfile_map\u001b[0m \u001b[0;34m=\u001b[0m \u001b[0mklass\u001b[0m\u001b[0;34m.\u001b[0m\u001b[0mfilespec_to_file_map\u001b[0m\u001b[0;34m(\u001b[0m\u001b[0mfilename\u001b[0m\u001b[0;34m)\u001b[0m\u001b[0;34m\u001b[0m\u001b[0;34m\u001b[0m\u001b[0m\n\u001b[1;32m    483\u001b[0m         return klass.from_file_map(file_map, mmap=mmap,\n\u001b[0;32m--> 484\u001b[0;31m                                    keep_file_open=keep_file_open)\n\u001b[0m\u001b[1;32m    485\u001b[0m \u001b[0;34m\u001b[0m\u001b[0m\n\u001b[1;32m    486\u001b[0m     \u001b[0mload\u001b[0m \u001b[0;34m=\u001b[0m \u001b[0mfrom_filename\u001b[0m\u001b[0;34m\u001b[0m\u001b[0;34m\u001b[0m\u001b[0m\n",
      "\u001b[0;32m~/anaconda3/envs/neuroimaging-analysis/lib/python3.7/site-packages/nibabel/keywordonly.py\u001b[0m in \u001b[0;36mwrapper\u001b[0;34m(*args, **kwargs)\u001b[0m\n\u001b[1;32m     15\u001b[0m                     '{0} takes at most {1} positional argument{2}'.format(\n\u001b[1;32m     16\u001b[0m                         func.__name__, n, 's' if n > 1 else ''))\n\u001b[0;32m---> 17\u001b[0;31m             \u001b[0;32mreturn\u001b[0m \u001b[0mfunc\u001b[0m\u001b[0;34m(\u001b[0m\u001b[0;34m*\u001b[0m\u001b[0margs\u001b[0m\u001b[0;34m,\u001b[0m \u001b[0;34m**\u001b[0m\u001b[0mkwargs\u001b[0m\u001b[0;34m)\u001b[0m\u001b[0;34m\u001b[0m\u001b[0;34m\u001b[0m\u001b[0m\n\u001b[0m\u001b[1;32m     18\u001b[0m         \u001b[0;32mreturn\u001b[0m \u001b[0mwrapper\u001b[0m\u001b[0;34m\u001b[0m\u001b[0;34m\u001b[0m\u001b[0m\n\u001b[1;32m     19\u001b[0m     \u001b[0;32mreturn\u001b[0m \u001b[0mdecorator\u001b[0m\u001b[0;34m\u001b[0m\u001b[0;34m\u001b[0m\u001b[0m\n",
      "\u001b[0;32m~/anaconda3/envs/neuroimaging-analysis/lib/python3.7/site-packages/nibabel/cifti2/cifti2.py\u001b[0m in \u001b[0;36mfrom_file_map\u001b[0;34m(klass, file_map, mmap, keep_file_open)\u001b[0m\n\u001b[1;32m   1410\u001b[0m         \u001b[0;32mfrom\u001b[0m \u001b[0;34m.\u001b[0m\u001b[0mparse_cifti2\u001b[0m \u001b[0;32mimport\u001b[0m \u001b[0m_Cifti2AsNiftiImage\u001b[0m\u001b[0;34m,\u001b[0m \u001b[0mCifti2Extension\u001b[0m\u001b[0;34m\u001b[0m\u001b[0;34m\u001b[0m\u001b[0m\n\u001b[1;32m   1411\u001b[0m         nifti_img = _Cifti2AsNiftiImage.from_file_map(file_map, mmap=mmap,\n\u001b[0;32m-> 1412\u001b[0;31m                                                       keep_file_open=keep_file_open)\n\u001b[0m\u001b[1;32m   1413\u001b[0m \u001b[0;34m\u001b[0m\u001b[0m\n\u001b[1;32m   1414\u001b[0m         \u001b[0;31m# Get cifti2 header\u001b[0m\u001b[0;34m\u001b[0m\u001b[0;34m\u001b[0m\u001b[0;34m\u001b[0m\u001b[0m\n",
      "\u001b[0;32m~/anaconda3/envs/neuroimaging-analysis/lib/python3.7/site-packages/nibabel/keywordonly.py\u001b[0m in \u001b[0;36mwrapper\u001b[0;34m(*args, **kwargs)\u001b[0m\n\u001b[1;32m     15\u001b[0m                     '{0} takes at most {1} positional argument{2}'.format(\n\u001b[1;32m     16\u001b[0m                         func.__name__, n, 's' if n > 1 else ''))\n\u001b[0;32m---> 17\u001b[0;31m             \u001b[0;32mreturn\u001b[0m \u001b[0mfunc\u001b[0m\u001b[0;34m(\u001b[0m\u001b[0;34m*\u001b[0m\u001b[0margs\u001b[0m\u001b[0;34m,\u001b[0m \u001b[0;34m**\u001b[0m\u001b[0mkwargs\u001b[0m\u001b[0;34m)\u001b[0m\u001b[0;34m\u001b[0m\u001b[0;34m\u001b[0m\u001b[0m\n\u001b[0m\u001b[1;32m     18\u001b[0m         \u001b[0;32mreturn\u001b[0m \u001b[0mwrapper\u001b[0m\u001b[0;34m\u001b[0m\u001b[0;34m\u001b[0m\u001b[0m\n\u001b[1;32m     19\u001b[0m     \u001b[0;32mreturn\u001b[0m \u001b[0mdecorator\u001b[0m\u001b[0;34m\u001b[0m\u001b[0;34m\u001b[0m\u001b[0m\n",
      "\u001b[0;32m~/anaconda3/envs/neuroimaging-analysis/lib/python3.7/site-packages/nibabel/analyze.py\u001b[0m in \u001b[0;36mfrom_file_map\u001b[0;34m(klass, file_map, mmap, keep_file_open)\u001b[0m\n\u001b[1;32m    973\u001b[0m         \u001b[0mhdr_fh\u001b[0m\u001b[0;34m,\u001b[0m \u001b[0mimg_fh\u001b[0m \u001b[0;34m=\u001b[0m \u001b[0mklass\u001b[0m\u001b[0;34m.\u001b[0m\u001b[0m_get_fileholders\u001b[0m\u001b[0;34m(\u001b[0m\u001b[0mfile_map\u001b[0m\u001b[0;34m)\u001b[0m\u001b[0;34m\u001b[0m\u001b[0;34m\u001b[0m\u001b[0m\n\u001b[1;32m    974\u001b[0m         \u001b[0;32mwith\u001b[0m \u001b[0mhdr_fh\u001b[0m\u001b[0;34m.\u001b[0m\u001b[0mget_prepare_fileobj\u001b[0m\u001b[0;34m(\u001b[0m\u001b[0mmode\u001b[0m\u001b[0;34m=\u001b[0m\u001b[0;34m'rb'\u001b[0m\u001b[0;34m)\u001b[0m \u001b[0;32mas\u001b[0m \u001b[0mhdrf\u001b[0m\u001b[0;34m:\u001b[0m\u001b[0;34m\u001b[0m\u001b[0;34m\u001b[0m\u001b[0m\n\u001b[0;32m--> 975\u001b[0;31m             \u001b[0mheader\u001b[0m \u001b[0;34m=\u001b[0m \u001b[0mklass\u001b[0m\u001b[0;34m.\u001b[0m\u001b[0mheader_class\u001b[0m\u001b[0;34m.\u001b[0m\u001b[0mfrom_fileobj\u001b[0m\u001b[0;34m(\u001b[0m\u001b[0mhdrf\u001b[0m\u001b[0;34m)\u001b[0m\u001b[0;34m\u001b[0m\u001b[0;34m\u001b[0m\u001b[0m\n\u001b[0m\u001b[1;32m    976\u001b[0m         \u001b[0mhdr_copy\u001b[0m \u001b[0;34m=\u001b[0m \u001b[0mheader\u001b[0m\u001b[0;34m.\u001b[0m\u001b[0mcopy\u001b[0m\u001b[0;34m(\u001b[0m\u001b[0;34m)\u001b[0m\u001b[0;34m\u001b[0m\u001b[0;34m\u001b[0m\u001b[0m\n\u001b[1;32m    977\u001b[0m         \u001b[0mimgf\u001b[0m \u001b[0;34m=\u001b[0m \u001b[0mimg_fh\u001b[0m\u001b[0;34m.\u001b[0m\u001b[0mfileobj\u001b[0m\u001b[0;34m\u001b[0m\u001b[0;34m\u001b[0m\u001b[0m\n",
      "\u001b[0;32m~/anaconda3/envs/neuroimaging-analysis/lib/python3.7/site-packages/nibabel/nifti1.py\u001b[0m in \u001b[0;36mfrom_fileobj\u001b[0;34m(klass, fileobj, endianness, check)\u001b[0m\n\u001b[1;32m    701\u001b[0m         \u001b[0mbyteswap\u001b[0m \u001b[0;34m=\u001b[0m \u001b[0mendian_codes\u001b[0m\u001b[0;34m[\u001b[0m\u001b[0;34m'native'\u001b[0m\u001b[0;34m]\u001b[0m \u001b[0;34m!=\u001b[0m \u001b[0mhdr\u001b[0m\u001b[0;34m.\u001b[0m\u001b[0mendianness\u001b[0m\u001b[0;34m\u001b[0m\u001b[0;34m\u001b[0m\u001b[0m\n\u001b[1;32m    702\u001b[0m         hdr.extensions = klass.exts_klass.from_fileobj(fileobj, extsize,\n\u001b[0;32m--> 703\u001b[0;31m                                                        byteswap)\n\u001b[0m\u001b[1;32m    704\u001b[0m         \u001b[0;32mreturn\u001b[0m \u001b[0mhdr\u001b[0m\u001b[0;34m\u001b[0m\u001b[0;34m\u001b[0m\u001b[0m\n\u001b[1;32m    705\u001b[0m \u001b[0;34m\u001b[0m\u001b[0m\n",
      "\u001b[0;32m~/anaconda3/envs/neuroimaging-analysis/lib/python3.7/site-packages/nibabel/nifti1.py\u001b[0m in \u001b[0;36mfrom_fileobj\u001b[0;34m(klass, fileobj, size, byteswap)\u001b[0m\n\u001b[1;32m    604\u001b[0m             \u001b[0;31m# a particular extension type\u001b[0m\u001b[0;34m\u001b[0m\u001b[0;34m\u001b[0m\u001b[0;34m\u001b[0m\u001b[0m\n\u001b[1;32m    605\u001b[0m             \u001b[0;32mtry\u001b[0m\u001b[0;34m:\u001b[0m\u001b[0;34m\u001b[0m\u001b[0;34m\u001b[0m\u001b[0m\n\u001b[0;32m--> 606\u001b[0;31m                 \u001b[0mext\u001b[0m \u001b[0;34m=\u001b[0m \u001b[0mextension_codes\u001b[0m\u001b[0;34m.\u001b[0m\u001b[0mhandler\u001b[0m\u001b[0;34m[\u001b[0m\u001b[0mecode\u001b[0m\u001b[0;34m]\u001b[0m\u001b[0;34m(\u001b[0m\u001b[0mecode\u001b[0m\u001b[0;34m,\u001b[0m \u001b[0mevalue\u001b[0m\u001b[0;34m)\u001b[0m\u001b[0;34m\u001b[0m\u001b[0;34m\u001b[0m\u001b[0m\n\u001b[0m\u001b[1;32m    607\u001b[0m             \u001b[0;32mexcept\u001b[0m \u001b[0mKeyError\u001b[0m\u001b[0;34m:\u001b[0m\u001b[0;34m\u001b[0m\u001b[0;34m\u001b[0m\u001b[0m\n\u001b[1;32m    608\u001b[0m                 \u001b[0;31m# unknown extension type\u001b[0m\u001b[0;34m\u001b[0m\u001b[0;34m\u001b[0m\u001b[0;34m\u001b[0m\u001b[0m\n",
      "\u001b[0;32m~/anaconda3/envs/neuroimaging-analysis/lib/python3.7/site-packages/nibabel/cifti2/parse_cifti2.py\u001b[0m in \u001b[0;36m__init__\u001b[0;34m(self, code, content)\u001b[0m\n\u001b[1;32m     32\u001b[0m \u001b[0;34m\u001b[0m\u001b[0m\n\u001b[1;32m     33\u001b[0m     \u001b[0;32mdef\u001b[0m \u001b[0m__init__\u001b[0m\u001b[0;34m(\u001b[0m\u001b[0mself\u001b[0m\u001b[0;34m,\u001b[0m \u001b[0mcode\u001b[0m\u001b[0;34m=\u001b[0m\u001b[0;32mNone\u001b[0m\u001b[0;34m,\u001b[0m \u001b[0mcontent\u001b[0m\u001b[0;34m=\u001b[0m\u001b[0;32mNone\u001b[0m\u001b[0;34m)\u001b[0m\u001b[0;34m:\u001b[0m\u001b[0;34m\u001b[0m\u001b[0;34m\u001b[0m\u001b[0m\n\u001b[0;32m---> 34\u001b[0;31m         \u001b[0mNifti1Extension\u001b[0m\u001b[0;34m.\u001b[0m\u001b[0m__init__\u001b[0m\u001b[0;34m(\u001b[0m\u001b[0mself\u001b[0m\u001b[0;34m,\u001b[0m \u001b[0mcode\u001b[0m\u001b[0;34m=\u001b[0m\u001b[0mcode\u001b[0m \u001b[0;32mor\u001b[0m \u001b[0mself\u001b[0m\u001b[0;34m.\u001b[0m\u001b[0mcode\u001b[0m\u001b[0;34m,\u001b[0m \u001b[0mcontent\u001b[0m\u001b[0;34m=\u001b[0m\u001b[0mcontent\u001b[0m\u001b[0;34m)\u001b[0m\u001b[0;34m\u001b[0m\u001b[0;34m\u001b[0m\u001b[0m\n\u001b[0m\u001b[1;32m     35\u001b[0m \u001b[0;34m\u001b[0m\u001b[0m\n\u001b[1;32m     36\u001b[0m     \u001b[0;32mdef\u001b[0m \u001b[0m_unmangle\u001b[0m\u001b[0;34m(\u001b[0m\u001b[0mself\u001b[0m\u001b[0;34m,\u001b[0m \u001b[0mvalue\u001b[0m\u001b[0;34m)\u001b[0m\u001b[0;34m:\u001b[0m\u001b[0;34m\u001b[0m\u001b[0;34m\u001b[0m\u001b[0m\n",
      "\u001b[0;32m~/anaconda3/envs/neuroimaging-analysis/lib/python3.7/site-packages/nibabel/nifti1.py\u001b[0m in \u001b[0;36m__init__\u001b[0;34m(self, code, content)\u001b[0m\n\u001b[1;32m    278\u001b[0m             \u001b[0;31m# XXX or fail or at least complain?\u001b[0m\u001b[0;34m\u001b[0m\u001b[0;34m\u001b[0m\u001b[0;34m\u001b[0m\u001b[0m\n\u001b[1;32m    279\u001b[0m             \u001b[0mself\u001b[0m\u001b[0;34m.\u001b[0m\u001b[0m_code\u001b[0m \u001b[0;34m=\u001b[0m \u001b[0mcode\u001b[0m\u001b[0;34m\u001b[0m\u001b[0;34m\u001b[0m\u001b[0m\n\u001b[0;32m--> 280\u001b[0;31m         \u001b[0mself\u001b[0m\u001b[0;34m.\u001b[0m\u001b[0m_content\u001b[0m \u001b[0;34m=\u001b[0m \u001b[0mself\u001b[0m\u001b[0;34m.\u001b[0m\u001b[0m_unmangle\u001b[0m\u001b[0;34m(\u001b[0m\u001b[0mcontent\u001b[0m\u001b[0;34m)\u001b[0m\u001b[0;34m\u001b[0m\u001b[0;34m\u001b[0m\u001b[0m\n\u001b[0m\u001b[1;32m    281\u001b[0m \u001b[0;34m\u001b[0m\u001b[0m\n\u001b[1;32m    282\u001b[0m     \u001b[0;32mdef\u001b[0m \u001b[0m_unmangle\u001b[0m\u001b[0;34m(\u001b[0m\u001b[0mself\u001b[0m\u001b[0;34m,\u001b[0m \u001b[0mvalue\u001b[0m\u001b[0;34m)\u001b[0m\u001b[0;34m:\u001b[0m\u001b[0;34m\u001b[0m\u001b[0;34m\u001b[0m\u001b[0m\n",
      "\u001b[0;32m~/anaconda3/envs/neuroimaging-analysis/lib/python3.7/site-packages/nibabel/cifti2/parse_cifti2.py\u001b[0m in \u001b[0;36m_unmangle\u001b[0;34m(self, value)\u001b[0m\n\u001b[1;32m     36\u001b[0m     \u001b[0;32mdef\u001b[0m \u001b[0m_unmangle\u001b[0m\u001b[0;34m(\u001b[0m\u001b[0mself\u001b[0m\u001b[0;34m,\u001b[0m \u001b[0mvalue\u001b[0m\u001b[0;34m)\u001b[0m\u001b[0;34m:\u001b[0m\u001b[0;34m\u001b[0m\u001b[0;34m\u001b[0m\u001b[0m\n\u001b[1;32m     37\u001b[0m         \u001b[0mparser\u001b[0m \u001b[0;34m=\u001b[0m \u001b[0mCifti2Parser\u001b[0m\u001b[0;34m(\u001b[0m\u001b[0;34m)\u001b[0m\u001b[0;34m\u001b[0m\u001b[0;34m\u001b[0m\u001b[0m\n\u001b[0;32m---> 38\u001b[0;31m         \u001b[0mparser\u001b[0m\u001b[0;34m.\u001b[0m\u001b[0mparse\u001b[0m\u001b[0;34m(\u001b[0m\u001b[0mstring\u001b[0m\u001b[0;34m=\u001b[0m\u001b[0mvalue\u001b[0m\u001b[0;34m)\u001b[0m\u001b[0;34m\u001b[0m\u001b[0;34m\u001b[0m\u001b[0m\n\u001b[0m\u001b[1;32m     39\u001b[0m         \u001b[0mself\u001b[0m\u001b[0;34m.\u001b[0m\u001b[0m_content\u001b[0m \u001b[0;34m=\u001b[0m \u001b[0mparser\u001b[0m\u001b[0;34m.\u001b[0m\u001b[0mheader\u001b[0m\u001b[0;34m\u001b[0m\u001b[0;34m\u001b[0m\u001b[0m\n\u001b[1;32m     40\u001b[0m         \u001b[0;32mreturn\u001b[0m \u001b[0mself\u001b[0m\u001b[0;34m.\u001b[0m\u001b[0m_content\u001b[0m\u001b[0;34m\u001b[0m\u001b[0;34m\u001b[0m\u001b[0m\n",
      "\u001b[0;32m~/anaconda3/envs/neuroimaging-analysis/lib/python3.7/site-packages/nibabel/xmlutils.py\u001b[0m in \u001b[0;36mparse\u001b[0;34m(self, string, fname, fptr)\u001b[0m\n\u001b[1;32m    101\u001b[0m         \u001b[0;32mfor\u001b[0m \u001b[0mname\u001b[0m \u001b[0;32min\u001b[0m \u001b[0mself\u001b[0m\u001b[0;34m.\u001b[0m\u001b[0mHANDLER_NAMES\u001b[0m\u001b[0;34m:\u001b[0m\u001b[0;34m\u001b[0m\u001b[0;34m\u001b[0m\u001b[0m\n\u001b[1;32m    102\u001b[0m             \u001b[0msetattr\u001b[0m\u001b[0;34m(\u001b[0m\u001b[0mparser\u001b[0m\u001b[0;34m,\u001b[0m \u001b[0mname\u001b[0m\u001b[0;34m,\u001b[0m \u001b[0mgetattr\u001b[0m\u001b[0;34m(\u001b[0m\u001b[0mself\u001b[0m\u001b[0;34m,\u001b[0m \u001b[0mname\u001b[0m\u001b[0;34m)\u001b[0m\u001b[0;34m)\u001b[0m\u001b[0;34m\u001b[0m\u001b[0;34m\u001b[0m\u001b[0m\n\u001b[0;32m--> 103\u001b[0;31m         \u001b[0mparser\u001b[0m\u001b[0;34m.\u001b[0m\u001b[0mParseFile\u001b[0m\u001b[0;34m(\u001b[0m\u001b[0mfptr\u001b[0m\u001b[0;34m)\u001b[0m\u001b[0;34m\u001b[0m\u001b[0;34m\u001b[0m\u001b[0m\n\u001b[0m\u001b[1;32m    104\u001b[0m \u001b[0;34m\u001b[0m\u001b[0m\n\u001b[1;32m    105\u001b[0m     \u001b[0;32mdef\u001b[0m \u001b[0mStartElementHandler\u001b[0m\u001b[0;34m(\u001b[0m\u001b[0mself\u001b[0m\u001b[0;34m,\u001b[0m \u001b[0mname\u001b[0m\u001b[0;34m,\u001b[0m \u001b[0mattrs\u001b[0m\u001b[0;34m)\u001b[0m\u001b[0;34m:\u001b[0m\u001b[0;34m\u001b[0m\u001b[0;34m\u001b[0m\u001b[0m\n",
      "\u001b[0;32m/tmp/build/80754af9/python_1572016129546/work/Modules/pyexpat.c\u001b[0m in \u001b[0;36mStartElement\u001b[0;34m()\u001b[0m\n",
      "\u001b[0;32m~/anaconda3/envs/neuroimaging-analysis/lib/python3.7/site-packages/nibabel/cifti2/parse_cifti2.py\u001b[0m in \u001b[0;36mStartElementHandler\u001b[0;34m(self, name, attrs)\u001b[0m\n\u001b[1;32m    155\u001b[0m             \u001b[0mself\u001b[0m\u001b[0;34m.\u001b[0m\u001b[0mheader\u001b[0m\u001b[0;34m.\u001b[0m\u001b[0mversion\u001b[0m \u001b[0;34m=\u001b[0m \u001b[0mattrs\u001b[0m\u001b[0;34m[\u001b[0m\u001b[0;34m'Version'\u001b[0m\u001b[0;34m]\u001b[0m\u001b[0;34m\u001b[0m\u001b[0;34m\u001b[0m\u001b[0m\n\u001b[1;32m    156\u001b[0m             \u001b[0;32mif\u001b[0m \u001b[0mLooseVersion\u001b[0m\u001b[0;34m(\u001b[0m\u001b[0mself\u001b[0m\u001b[0;34m.\u001b[0m\u001b[0mheader\u001b[0m\u001b[0;34m.\u001b[0m\u001b[0mversion\u001b[0m\u001b[0;34m)\u001b[0m \u001b[0;34m<\u001b[0m \u001b[0mLooseVersion\u001b[0m\u001b[0;34m(\u001b[0m\u001b[0;34m'2'\u001b[0m\u001b[0;34m)\u001b[0m\u001b[0;34m:\u001b[0m\u001b[0;34m\u001b[0m\u001b[0;34m\u001b[0m\u001b[0m\n\u001b[0;32m--> 157\u001b[0;31m                 \u001b[0;32mraise\u001b[0m \u001b[0mValueError\u001b[0m\u001b[0;34m(\u001b[0m\u001b[0;34m'Only CIFTI-2 files are supported'\u001b[0m\u001b[0;34m)\u001b[0m\u001b[0;34m\u001b[0m\u001b[0;34m\u001b[0m\u001b[0m\n\u001b[0m\u001b[1;32m    158\u001b[0m             \u001b[0mself\u001b[0m\u001b[0;34m.\u001b[0m\u001b[0mfsm_state\u001b[0m\u001b[0;34m.\u001b[0m\u001b[0mappend\u001b[0m\u001b[0;34m(\u001b[0m\u001b[0;34m'CIFTI'\u001b[0m\u001b[0;34m)\u001b[0m\u001b[0;34m\u001b[0m\u001b[0;34m\u001b[0m\u001b[0m\n\u001b[1;32m    159\u001b[0m             \u001b[0mself\u001b[0m\u001b[0;34m.\u001b[0m\u001b[0mstruct_state\u001b[0m\u001b[0;34m.\u001b[0m\u001b[0mappend\u001b[0m\u001b[0;34m(\u001b[0m\u001b[0mself\u001b[0m\u001b[0;34m.\u001b[0m\u001b[0mheader\u001b[0m\u001b[0;34m)\u001b[0m\u001b[0;34m\u001b[0m\u001b[0;34m\u001b[0m\u001b[0m\n",
      "\u001b[0;31mValueError\u001b[0m: Only CIFTI-2 files are supported"
     ]
    }
   ],
   "source": [
    "#making sure i can actually read in the file\n",
    "import nibabel as nib\n",
    "\n",
    "f = '/home/gabi/Documents/kimel/brainhack_2019/BHTO19_GradientsVariability/data/MSC/cifti/sub-MSC01_ses-func01_task-rest_bold_32k_fsLR.dtseries.nii'\n",
    "img = nib.load(f)\n"
   ]
  }
 ],
 "metadata": {
  "kernelspec": {
   "display_name": "neuroimaging-analysis",
   "language": "python",
   "name": "neuroimaging-analysis"
  },
  "language_info": {
   "codemirror_mode": {
    "name": "ipython",
    "version": 3
   },
   "file_extension": ".py",
   "mimetype": "text/x-python",
   "name": "python",
   "nbconvert_exporter": "python",
   "pygments_lexer": "ipython3",
   "version": "3.7.5"
  }
 },
 "nbformat": 4,
 "nbformat_minor": 2
}
